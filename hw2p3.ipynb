{
 "cells": [
  {
   "cell_type": "code",
   "execution_count": 1,
   "id": "0f52f49f",
   "metadata": {},
   "outputs": [],
   "source": [
    "import numpy as np\n",
    "from PIL import Image as Img\n",
    "import matplotlib.pyplot as plt\n",
    "import cv2\n",
    "import math\n",
    "from lloyd_python import lloyds"
   ]
  },
  {
   "cell_type": "code",
   "execution_count": 2,
   "id": "0ab65ccd",
   "metadata": {},
   "outputs": [],
   "source": [
    "def uniform_quan(im, s):\n",
    "    output = np.zeros(np.shape(im))\n",
    "    for i in range(len(im)):\n",
    "        for j in range(len(im[0])):\n",
    "            output[i][j] = int((im[i][j]+1)/pow(2, 8-s))\n",
    "            \n",
    "    return output"
   ]
  },
  {
   "cell_type": "code",
   "execution_count": 3,
   "id": "cba825c5",
   "metadata": {},
   "outputs": [],
   "source": [
    "diver = cv2.imread(\"diver.tif\")\n",
    "lena = cv2.imread(\"lena512.tif\")\n",
    "grayd = cv2.cvtColor(diver, cv2.COLOR_BGR2GRAY)\n",
    "grayl = cv2.cvtColor(lena, cv2.COLOR_BGR2GRAY)\n",
    "msed = []\n",
    "msel = []\n",
    "for s in range(1,8):\n",
    "    unid = uniform_quan(grayd[:], s)\n",
    "    unil = uniform_quan(grayl[:], s)\n",
    "    \n",
    "    unid1 = np.zeros(np.shape(unid))\n",
    "    unid1 = cv2.normalize(unid, unid1, 0, 255, cv2.NORM_MINMAX)\n",
    "    unil1 = np.zeros(np.shape(unil))\n",
    "    unil1 = cv2.normalize(unil, unil1, 0, 255, cv2.NORM_MINMAX)\n",
    "    \n",
    "    sumd = 0\n",
    "    for i in range(len(unid)):\n",
    "        for j in range(len(unid[0])):\n",
    "            sumd += pow(unid1[i][j] - grayd[i][j], 2)\n",
    "    msed.append(sumd/(len(unid)*len(unid[0])))\n",
    "    \n",
    "    suml = 0\n",
    "    for i in range(len(unil)):\n",
    "        for j in range(len(unil[0])):\n",
    "            suml += pow(unil1[i][j] - grayl[i][j], 2)\n",
    "    msel.append(suml/(len(unil)*len(unil[0])))"
   ]
  },
  {
   "cell_type": "code",
   "execution_count": 4,
   "id": "15b29652",
   "metadata": {},
   "outputs": [],
   "source": [
    "trainingsetd = np.reshape(grayd, (len(grayd)*len(grayd[0]), 1))\n",
    "partitiond = []\n",
    "codebookd = []\n",
    "for s in range(2,9):\n",
    "    p, c = lloyds(trainingsetd, [s])\n",
    "    partitiond.append(p)\n",
    "    codebookd.append(c)\n",
    "\n",
    "mselld = []\n",
    "aread = len(grayd) * len(grayd[0])\n",
    "areal = len(grayl) * len(grayl[0])\n",
    "for a in range(7):\n",
    "    Sum = 0\n",
    "    for i in range(len(grayd)):\n",
    "        for j in range(len(grayd[0])):\n",
    "            part = -1\n",
    "            for p in reversed(range(len(partitiond[a]))):\n",
    "                if grayd[i][j]>partitiond[a][p]:\n",
    "                    part = p\n",
    "                    break\n",
    "            Sum += pow(grayd[i][j] - codebookd[a][part+1], 2)\n",
    "    mselld.append(Sum/aread)"
   ]
  },
  {
   "cell_type": "code",
   "execution_count": 5,
   "id": "01ba6c24",
   "metadata": {},
   "outputs": [],
   "source": [
    "trainingsetl = np.reshape(grayl, (len(grayl)*len(grayl[0]), 1))\n",
    "partitionl = []\n",
    "codebookl = []\n",
    "for s in range(2,9):\n",
    "    p, c = lloyds(trainingsetl, [s])\n",
    "    partitionl.append(p)\n",
    "    codebookl.append(c)\n",
    "    \n",
    "mselll = []\n",
    "for a in range(7):\n",
    "    Sum = 0\n",
    "    for i in range(len(grayl)):\n",
    "        for j in range(len(grayl[0])):\n",
    "            part = -1\n",
    "            for p in reversed(range(len(partitionl[a]))):\n",
    "                if grayl[i][j]>partitionl[a][p]:\n",
    "                    part = p\n",
    "                    break\n",
    "            Sum += pow(grayl[i][j] - codebookl[a][part+1], 2)\n",
    "    mselll.append(Sum/areal)"
   ]
  },
  {
   "cell_type": "code",
   "execution_count": 6,
   "id": "6b6cd19f",
   "metadata": {},
   "outputs": [
    {
     "data": {
      "image/png": "[encoded data removed]",
      "text/plain": [
       "<Figure size 432x288 with 1 Axes>"
      ]
     },
     "metadata": {
      "needs_background": "light"
     },
     "output_type": "display_data"
    }
   ],
   "source": [
    "plt.bar(range(1,8), msed)\n",
    "plt.bar(range(1,8), mselld)\n",
    "plt.title(\"MSE values of diven\")\n",
    "plt.xlabel(\"s\", size=14)\n",
    "plt.ylabel(\"MSE\", size=14)\n",
    "plt.show()"
   ]
  },
  {
   "cell_type": "code",
   "execution_count": 7,
   "id": "ff8e1e47",
   "metadata": {},
   "outputs": [
    {
     "data": {
      "image/png": "[encoded data removed]",
      "text/plain": [
       "<Figure size 432x288 with 1 Axes>"
      ]
     },
     "metadata": {
      "needs_background": "light"
     },
     "output_type": "display_data"
    }
   ],
   "source": [
    "plt.bar(range(1,8), msel)\n",
    "plt.bar(range(1,8), mselll)\n",
    "plt.title(\"MSE values of lena\")\n",
    "plt.xlabel(\"s\", size=14)\n",
    "plt.ylabel(\"MSE\", size=14)\n",
    "plt.show()"
   ]
  },
  {
   "cell_type": "code",
   "execution_count": 8,
   "id": "fec91973",
   "metadata": {},
   "outputs": [],
   "source": [
    "HEd = cv2.equalizeHist(grayd)\n",
    "HEl = cv2.equalizeHist(grayl)"
   ]
  },
  {
   "cell_type": "code",
   "execution_count": 9,
   "id": "086e5a69",
   "metadata": {},
   "outputs": [],
   "source": [
    "trainingsetd = np.reshape(HEd, (len(HEd)*len(HEd[0]), 1))\n",
    "partitiond = []\n",
    "codebookd = []\n",
    "for s in range(2,9):\n",
    "    p, c = lloyds(trainingsetd, [s])\n",
    "    partitiond.append(p)\n",
    "    codebookd.append(c)\n",
    "\n",
    "mselld = []\n",
    "for a in range(7):\n",
    "    Sum = 0\n",
    "    for i in range(len(grayd)):\n",
    "        for j in range(len(grayd[0])):\n",
    "            part = -1\n",
    "            for p in reversed(range(len(partitiond[a]))):\n",
    "                if HEd[i][j]>partitiond[a][p]:\n",
    "                    part = p\n",
    "                    break\n",
    "            Sum += pow(HEd[i][j] - codebookd[a][part+1], 2)\n",
    "    mselld.append(Sum/aread)"
   ]
  },
  {
   "cell_type": "code",
   "execution_count": 10,
   "id": "a495003c",
   "metadata": {},
   "outputs": [],
   "source": [
    "trainingsetl = np.reshape(HEl, (len(HEl)*len(HEl[0]), 1))\n",
    "partitionl = []\n",
    "codebookl = []\n",
    "for s in range(2,9):\n",
    "    p, c = lloyds(trainingsetl, [s])\n",
    "    partitionl.append(p)\n",
    "    codebookl.append(c)\n",
    "\n",
    "mselll = []\n",
    "for a in range(7):\n",
    "    Sum = 0\n",
    "    for i in range(len(grayl)):\n",
    "        for j in range(len(grayl[0])):\n",
    "            part = -1\n",
    "            for p in reversed(range(len(partitionl[a]))):\n",
    "                if HEl[i][j]>partitionl[a][p]:\n",
    "                    part = p\n",
    "                    break\n",
    "            Sum += pow(HEl[i][j] - codebookl[a][part+1], 2)\n",
    "    mselll.append(Sum/aread)"
   ]
  },
  {
   "cell_type": "code",
   "execution_count": 11,
   "id": "fc90040f",
   "metadata": {},
   "outputs": [
    {
     "data": {
      "image/png": "[encoded data removed]",
      "text/plain": [
       "<Figure size 432x288 with 1 Axes>"
      ]
     },
     "metadata": {
      "needs_background": "light"
     },
     "output_type": "display_data"
    }
   ],
   "source": [
    "plt.bar(range(1,8), msed)\n",
    "plt.bar(range(1,8), mselld)\n",
    "plt.title(\"MSE values of diven\")\n",
    "plt.xlabel(\"s\", size=14)\n",
    "plt.ylabel(\"MSE\", size=14)\n",
    "plt.show()"
   ]
  },
  {
   "cell_type": "code",
   "execution_count": 12,
   "id": "e6cec3d4",
   "metadata": {},
   "outputs": [
    {
     "data": {
      "image/png": "[encoded data removed]",
      "text/plain": [
       "<Figure size 432x288 with 1 Axes>"
      ]
     },
     "metadata": {
      "needs_background": "light"
     },
     "output_type": "display_data"
    }
   ],
   "source": [
    "plt.bar(range(1,8), msel)\n",
    "plt.bar(range(1,8), mselll)\n",
    "plt.title(\"MSE values of lena\")\n",
    "plt.xlabel(\"s\", size=14)\n",
    "plt.ylabel(\"MSE\", size=14)\n",
    "plt.show()"
   ]
  }
 ],
 "metadata": {
  "kernelspec": {
   "display_name": "Python 3 (ipykernel)",
   "language": "python",
   "name": "python3"
  },
  "language_info": {
   "codemirror_mode": {
    "name": "ipython",
    "version": 3
   },
   "file_extension": ".py",
   "mimetype": "text/x-python",
   "name": "python",
   "nbconvert_exporter": "python",
   "pygments_lexer": "ipython3",
   "version": "3.9.5"
  }
 },
 "nbformat": 4,
 "nbformat_minor": 5
}
